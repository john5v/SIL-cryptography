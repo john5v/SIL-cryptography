{
 "cells": [
  {
   "cell_type": "markdown",
   "metadata": {},
   "source": [
    "SIL-cryptograph/block cipher\n",
    "\n",
    "use two function \n",
    "    diab()  inverse modulo in Z10 \n",
    "    D3LE()  use in block cipher for both encryption and decraption\n",
    "\n",
    "k = [423,456,789,951]       keys \n",
    "n = 3                       num of digit\n",
    "\n",
    "#encryption \n",
    "m =736\n",
    "c = D3LE(m.k,n)\n",
    "\n",
    "#decraption\n",
    "c = 234\n",
    "m = D3LE(m.k,n)\n"
   ]
  },
  {
   "cell_type": "code",
   "execution_count": 1,
   "metadata": {},
   "outputs": [],
   "source": [
    "def diab(l,a,n):\n",
    "    #find inverse modulo in Z10 \n",
    "    #for linera anylsis puropse we write it \n",
    "    #you can use eculid+extantion+multiplication\n",
    "    b = 1\n",
    "    for i in range(1,n+1):\n",
    "        for j in range(0,10):\n",
    "            if (l)%10**i == (a*b)%10**i:\n",
    "                break\n",
    "            else:\n",
    "                b=b+10**(i-1)\n",
    "    return b "
   ]
  },
  {
   "cell_type": "code",
   "execution_count": 2,
   "metadata": {},
   "outputs": [],
   "source": [
    "def D3LE(b,k,n):\n",
    "\n",
    "    #domain symmetric encraption\n",
    "    #same function use for both encryption and decryption\n",
    "    \n",
    "    #parameter\n",
    "    #b value\n",
    "    #k keys \n",
    "    #n number of digit \n",
    "\n",
    "    n = n+1         \n",
    "\n",
    "\n",
    "    b = b*10+1      #b 1\n",
    "    \n",
    "    u = k[0]*10     #u  0\n",
    "    v = k[1]*10+1   #v  1\n",
    "    y = k[2]*10+1   #y  1\n",
    "    z = k[3]*10     #z  0\n",
    "    #print(u,v,y,z,b)\n",
    "\n",
    "\n",
    "    #layer1 use SIL1 eq \n",
    "    l = (b*u + v)%10**n\n",
    "    a = (b*y + z)%10**n\n",
    "    b = diab(l,a,n)\n",
    "    #print(l,a,b)\n",
    "    \n",
    "    #layer2 reverse b \n",
    "    b = int(str(b)[-2::-1])*10+1\n",
    "    #print(b)\n",
    "    \n",
    "    #layer3 use SIL2 eq \n",
    "    l = (v - b*z)%10**n\n",
    "    a = (b*y - u)%10**n\n",
    "    b = diab(l,a,n)\n",
    "    #print(l,a,b)\n",
    "\n",
    "    #remove last digit \n",
    "    b = int((b-1)/10)\n",
    "\n",
    "    return b \n",
    "    "
   ]
  },
  {
   "cell_type": "code",
   "execution_count": 3,
   "metadata": {},
   "outputs": [
    {
     "data": {
      "text/plain": [
       "234"
      ]
     },
     "execution_count": 3,
     "metadata": {},
     "output_type": "execute_result"
    }
   ],
   "source": [
    "k = [423,456,789,951]\n",
    "n = 3\n",
    "\n",
    "#encraption\n",
    "m = 736\n",
    "D3LE(m,k,n)"
   ]
  },
  {
   "cell_type": "code",
   "execution_count": 4,
   "metadata": {},
   "outputs": [
    {
     "data": {
      "text/plain": [
       "736"
      ]
     },
     "execution_count": 4,
     "metadata": {},
     "output_type": "execute_result"
    }
   ],
   "source": [
    "#decraption\n",
    "c = 234 \n",
    "D3LE(c,k,n)"
   ]
  }
 ],
 "metadata": {
  "kernelspec": {
   "display_name": "Python 3.7.3 32-bit",
   "language": "python",
   "name": "python3"
  },
  "language_info": {
   "codemirror_mode": {
    "name": "ipython",
    "version": 3
   },
   "file_extension": ".py",
   "mimetype": "text/x-python",
   "name": "python",
   "nbconvert_exporter": "python",
   "pygments_lexer": "ipython3",
   "version": "3.7.3"
  },
  "orig_nbformat": 4,
  "vscode": {
   "interpreter": {
    "hash": "916dbcbb3f70747c44a77c7bcd40155683ae19c65e1c03b4aa3499c5328201f1"
   }
  }
 },
 "nbformat": 4,
 "nbformat_minor": 2
}
